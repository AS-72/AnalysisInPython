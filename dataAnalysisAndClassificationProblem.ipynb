{
 "cells": [
  {
   "cell_type": "markdown",
   "metadata": {},
   "source": [
    "## **Assignment 3**\n",
    "---\n",
    "\n",
    "**Author:** Anthony Stachowski  \n",
    "**NetID**: astacho1  \n",
    "\n",
    "### **Instructions**\n",
    "This assignment includes a series of questions designed to help you practice the fundamentals of data analytics in Python. For each question, provide a complete answer below it using code cell(s). Be sure your answers are sensible, code-based (e.g., programmatic as opposed to hard-coded) and provide sufficient comments for clarity.\n",
    "\n",
    "Before you begin, be sure to do the following to help identify your submission:\n",
    "\n",
    "1. Rename this Jupyter Notebook to include your last/first name (e.g., 70260-03_Assignment3_Dobolyi_David.ipynb).\n",
    "2. Fill in your name and NetID (e.g., ddobolyi) at the top of this Notebook.\n",
    "\n",
    "Your final submission to Blackboard must contain two files:\n",
    "\n",
    "1. This Notebook with your completed answers, which runs from top-to-bottom without errors (e.g., 70260-03_Assignment3_Dobolyi_David.ipynb).\n",
    "2. An HTML export of this Notebook (e.g., 70260-03_Assignment3_Dobolyi_David.html).\n",
    "\n",
    "After completing the assignment, to ensure your solution is complete and to generate the HTML export, be sure to:\n",
    "\n",
    "1. Perform a full reset of your Notebook to double-check that your submission is fully working. To do this, go to Kernel -> Restart Kernel and Run All Cells... in the main menu.\n",
    "2. Generate a HTML export using File -> Export Notebook As... -> Export Notebook to HTML in the main menu.\n",
    "\n",
    "Finally, to upload your files to Sakai, you may need to zip them first, particularly when it comes to the HTML portion of the submission. For instructions on how to zip a file, see the following [link](https://www.sweetwater.com/sweetcare/articles/how-to-zip-and-unzip-files/) for visual examples.\n",
    "\n",
    "##### **Data** \n",
    "A file named bank-additional.zip (the [Bank Marketing Data Set](http://archive.ics.uci.edu/ml/datasets/bank+marketing) from the UCI Machine Learning Repository) is provided with this assignment. Unzip it to find the data files you will need to answer several of the questions below.\n",
    "\n",
    "##### **Notes**\n",
    "\n",
    "1. Assignment 3 is individual work -- please do not collaborate with others while completing this assignment.\n",
    "2. You are encouraged to copy and adapt code from the class scripts to help solve this assignment.\n",
    "3. Be sure to run the [Setup](#Setup) to complete the assignment."
   ]
  },
  {
   "cell_type": "markdown",
   "metadata": {},
   "source": [
    "### **Imports**\n",
    "\n",
    "The following code cell contains some basic package installation steps and imports to help get you started and help with several of the questions below.\n",
    "\n",
    "Place any additional imports you need in the relevant cell below as you continue to work on the assignment."
   ]
  },
  {
   "cell_type": "code",
   "execution_count": 1,
   "metadata": {},
   "outputs": [],
   "source": [
    "# install packages (if needed)\n",
    "\n",
    "#!conda install numpy pandas seaborn scikit-learn --y\n",
    "# or\n",
    "# !pip install numpy pandas seaborn scikit-learn --quiet"
   ]
  },
  {
   "cell_type": "code",
   "execution_count": 1,
   "metadata": {},
   "outputs": [],
   "source": [
    "# package imports\n",
    "\n",
    "import math\n",
    "import numpy as np\n",
    "import pandas as pd\n",
    "import seaborn as sns\n",
    "import matplotlib.pyplot as plt\n",
    "\n",
    "from matplotlib import pyplot\n",
    "from matplotlib.colors import LinearSegmentedColormap\n",
    "import matplotlib.cm as cm\n",
    "\n",
    "from sklearn.model_selection import train_test_split, GridSearchCV\n",
    "from sklearn.impute import SimpleImputer\n",
    "from sklearn.preprocessing import OneHotEncoder, RobustScaler\n",
    "from sklearn.feature_selection import VarianceThreshold\n",
    "from sklearn.metrics import balanced_accuracy_score, roc_auc_score, roc_curve, plot_roc_curve, plot_confusion_matrix, classification_report\n",
    "\n",
    "from sklearn.tree import DecisionTreeClassifier\n",
    "from sklearn.ensemble import RandomForestClassifier, AdaBoostClassifier\n",
    "\n",
    "from sklearn.svm import SVC"
   ]
  },
  {
   "cell_type": "code",
   "execution_count": 2,
   "metadata": {},
   "outputs": [],
   "source": [
    "# set up seaborn plots\n",
    "sns.set(rc = {'figure.figsize': (7, 6)},\n",
    "        font_scale = 1.25) # increase text size on plots (e.g., axis labels)\n",
    "sns.set_style('whitegrid')"
   ]
  },
  {
   "cell_type": "markdown",
   "metadata": {},
   "source": [
    "### **Setup**\n",
    "\n",
    "Place your solution (i.e., this script) and the unzipped data files (i.e., bank-additional-full.csv, bank-additional-names.txt, and bank-additional.csv) into one folder and then run the following code cell to get your analysis started:"
   ]
  },
  {
   "cell_type": "code",
   "execution_count": 3,
   "metadata": {},
   "outputs": [
    {
     "name": "stdout",
     "output_type": "stream",
     "text": [
      "ï»¿Citation Request:\n",
      "  This dataset is publicly available for research. The details are described in [Moro et al., 2014]. \n",
      "  Please include this citation if you plan to use this database:\n",
      "\n",
      "  [Moro et al., 2014] S. Moro, P. Cortez and P. Rita. A Data-Driven Approach to Predict the Success of Bank Telemarketing. Decision Support Systems, In press, http://dx.doi.org/10.1016/j.dss.2014.03.001\n",
      "\n",
      "  Available at: [pdf] http://dx.doi.org/10.1016/j.dss.2014.03.001\n",
      "                [bib] http://www3.dsi.uminho.pt/pcortez/bib/2014-dss.txt\n",
      "\n",
      "1. Title: Bank Marketing (with social/economic context)\n",
      "\n",
      "2. Sources\n",
      "   Created by: SÃ©rgio Moro (ISCTE-IUL), Paulo Cortez (Univ. Minho) and Paulo Rita (ISCTE-IUL) @ 2014\n",
      "   \n",
      "3. Past Usage:\n",
      "\n",
      "  The full dataset (bank-additional-full.csv) was described and analyzed in:\n",
      "\n",
      "  S. Moro, P. Cortez and P. Rita. A Data-Driven Approach to Predict the Success of Bank Telemarketing. Decision Support Systems (2014), doi:10.1016/j.dss.2014.03.001.\n",
      " \n",
      "4. Relevant Information:\n",
      "\n",
      "   This dataset is based on \"Bank Marketing\" UCI dataset (please check the description at: http://archive.ics.uci.edu/ml/datasets/Bank+Marketing).\n",
      "   The data is enriched by the addition of five new social and economic features/attributes (national wide indicators from a ~10M population country), published by the Banco de Portugal and publicly available at: https://www.bportugal.pt/estatisticasweb.\n",
      "   This dataset is almost identical to the one used in [Moro et al., 2014] (it does not include all attributes due to privacy concerns). \n",
      "   Using the rminer package and R tool (http://cran.r-project.org/web/packages/rminer/), we found that the addition of the five new social and economic attributes (made available here) lead to substantial improvement in the prediction of a success, even when the duration of the call is not included. Note: the file can be read in R using: d=read.table(\"bank-additional-full.csv\",header=TRUE,sep=\";\")\n",
      "   \n",
      "   The zip file includes two datasets: \n",
      "      1) bank-additional-full.csv with all examples, ordered by date (from May 2008 to November 2010).\n",
      "      2) bank-additional.csv with 10% of the examples (4119), randomly selected from bank-additional-full.csv.\n",
      "   The smallest dataset is provided to test more computationally demanding machine learning algorithms (e.g., SVM).\n",
      "\n",
      "   The binary classification goal is to predict if the client will subscribe a bank term deposit (variable y).\n",
      "\n",
      "5. Number of Instances: 41188 for bank-additional-full.csv\n",
      "\n",
      "6. Number of Attributes: 20 + output attribute.\n",
      "\n",
      "7. Attribute information:\n",
      "\n",
      "   For more information, read [Moro et al., 2014].\n",
      "\n",
      "   Input variables:\n",
      "   # bank client data:\n",
      "   1 - age (numeric)\n",
      "   2 - job : type of job (categorical: \"admin.\",\"blue-collar\",\"entrepreneur\",\"housemaid\",\"management\",\"retired\",\"self-employed\",\"services\",\"student\",\"technician\",\"unemployed\",\"unknown\")\n",
      "   3 - marital : marital status (categorical: \"divorced\",\"married\",\"single\",\"unknown\"; note: \"divorced\" means divorced or widowed)\n",
      "   4 - education (categorical: \"basic.4y\",\"basic.6y\",\"basic.9y\",\"high.school\",\"illiterate\",\"professional.course\",\"university.degree\",\"unknown\")\n",
      "   5 - default: has credit in default? (categorical: \"no\",\"yes\",\"unknown\")\n",
      "   6 - housing: has housing loan? (categorical: \"no\",\"yes\",\"unknown\")\n",
      "   7 - loan: has personal loan? (categorical: \"no\",\"yes\",\"unknown\")\n",
      "   # related with the last contact of the current campaign:\n",
      "   8 - contact: contact communication type (categorical: \"cellular\",\"telephone\") \n",
      "   9 - month: last contact month of year (categorical: \"jan\", \"feb\", \"mar\", ..., \"nov\", \"dec\")\n",
      "  10 - day_of_week: last contact day of the week (categorical: \"mon\",\"tue\",\"wed\",\"thu\",\"fri\")\n",
      "  11 - duration: last contact duration, in seconds (numeric). Important note:  this attribute highly affects the output target (e.g., if duration=0 then y=\"no\"). Yet, the duration is not known before a call is performed. Also, after the end of the call y is obviously known. Thus, this input should only be included for benchmark purposes and should be discarded if the intention is to have a realistic predictive model.\n",
      "   # other attributes:\n",
      "  12 - campaign: number of contacts performed during this campaign and for this client (numeric, includes last contact)\n",
      "  13 - pdays: number of days that passed by after the client was last contacted from a previous campaign (numeric; 999 means client was not previously contacted)\n",
      "  14 - previous: number of contacts performed before this campaign and for this client (numeric)\n",
      "  15 - poutcome: outcome of the previous marketing campaign (categorical: \"failure\",\"nonexistent\",\"success\")\n",
      "   # social and economic context attributes\n",
      "  16 - emp.var.rate: employment variation rate - quarterly indicator (numeric)\n",
      "  17 - cons.price.idx: consumer price index - monthly indicator (numeric)     \n",
      "  18 - cons.conf.idx: consumer confidence index - monthly indicator (numeric)     \n",
      "  19 - euribor3m: euribor 3 month rate - daily indicator (numeric)\n",
      "  20 - nr.employed: number of employees - quarterly indicator (numeric)\n",
      "\n",
      "  Output variable (desired target):\n",
      "  21 - y - has the client subscribed a term deposit? (binary: \"yes\",\"no\")\n",
      "\n",
      "8. Missing Attribute Values: There are several missing values in some categorical attributes, all coded with the \"unknown\" label. These missing values can be treated as a possible class label or using deletion or imputation techniques. \n",
      "\n"
     ]
    }
   ],
   "source": [
    "# read data set notes\n",
    "notes = open('bank-additional-names.txt', 'r')\n",
    "print(notes.read())\n",
    "notes.close()\n",
    "\n",
    "# load data\n",
    "dat = pd.read_table('bank-additional-full.csv', sep = ';').drop(columns = 'duration') # see note below regarding why this column is dropped"
   ]
  },
  {
   "cell_type": "markdown",
   "metadata": {},
   "source": [
    "### **Question 1**\n",
    "\n",
    "In the setup code above, the data were placed in a variable named *dat*. Show the following properties of the data:\n",
    "\n",
    "1. the first five rows of the data\n",
    "2. the dimensions (number of rows and columns)\n",
    "3. the data types (e.g., float64)"
   ]
  },
  {
   "cell_type": "code",
   "execution_count": 4,
   "metadata": {},
   "outputs": [
    {
     "data": {
      "text/html": [
       "<div>\n",
       "<style scoped>\n",
       "    .dataframe tbody tr th:only-of-type {\n",
       "        vertical-align: middle;\n",
       "    }\n",
       "\n",
       "    .dataframe tbody tr th {\n",
       "        vertical-align: top;\n",
       "    }\n",
       "\n",
       "    .dataframe thead th {\n",
       "        text-align: right;\n",
       "    }\n",
       "</style>\n",
       "<table border=\"1\" class=\"dataframe\">\n",
       "  <thead>\n",
       "    <tr style=\"text-align: right;\">\n",
       "      <th></th>\n",
       "      <th>age</th>\n",
       "      <th>job</th>\n",
       "      <th>marital</th>\n",
       "      <th>education</th>\n",
       "      <th>default</th>\n",
       "      <th>housing</th>\n",
       "      <th>loan</th>\n",
       "      <th>contact</th>\n",
       "      <th>month</th>\n",
       "      <th>day_of_week</th>\n",
       "      <th>campaign</th>\n",
       "      <th>pdays</th>\n",
       "      <th>previous</th>\n",
       "      <th>poutcome</th>\n",
       "      <th>emp.var.rate</th>\n",
       "      <th>cons.price.idx</th>\n",
       "      <th>cons.conf.idx</th>\n",
       "      <th>euribor3m</th>\n",
       "      <th>nr.employed</th>\n",
       "      <th>y</th>\n",
       "    </tr>\n",
       "  </thead>\n",
       "  <tbody>\n",
       "    <tr>\n",
       "      <th>0</th>\n",
       "      <td>56</td>\n",
       "      <td>housemaid</td>\n",
       "      <td>married</td>\n",
       "      <td>basic.4y</td>\n",
       "      <td>no</td>\n",
       "      <td>no</td>\n",
       "      <td>no</td>\n",
       "      <td>telephone</td>\n",
       "      <td>may</td>\n",
       "      <td>mon</td>\n",
       "      <td>1</td>\n",
       "      <td>999</td>\n",
       "      <td>0</td>\n",
       "      <td>nonexistent</td>\n",
       "      <td>1.1</td>\n",
       "      <td>93.994</td>\n",
       "      <td>-36.4</td>\n",
       "      <td>4.857</td>\n",
       "      <td>5191.0</td>\n",
       "      <td>no</td>\n",
       "    </tr>\n",
       "    <tr>\n",
       "      <th>1</th>\n",
       "      <td>57</td>\n",
       "      <td>services</td>\n",
       "      <td>married</td>\n",
       "      <td>high.school</td>\n",
       "      <td>unknown</td>\n",
       "      <td>no</td>\n",
       "      <td>no</td>\n",
       "      <td>telephone</td>\n",
       "      <td>may</td>\n",
       "      <td>mon</td>\n",
       "      <td>1</td>\n",
       "      <td>999</td>\n",
       "      <td>0</td>\n",
       "      <td>nonexistent</td>\n",
       "      <td>1.1</td>\n",
       "      <td>93.994</td>\n",
       "      <td>-36.4</td>\n",
       "      <td>4.857</td>\n",
       "      <td>5191.0</td>\n",
       "      <td>no</td>\n",
       "    </tr>\n",
       "    <tr>\n",
       "      <th>2</th>\n",
       "      <td>37</td>\n",
       "      <td>services</td>\n",
       "      <td>married</td>\n",
       "      <td>high.school</td>\n",
       "      <td>no</td>\n",
       "      <td>yes</td>\n",
       "      <td>no</td>\n",
       "      <td>telephone</td>\n",
       "      <td>may</td>\n",
       "      <td>mon</td>\n",
       "      <td>1</td>\n",
       "      <td>999</td>\n",
       "      <td>0</td>\n",
       "      <td>nonexistent</td>\n",
       "      <td>1.1</td>\n",
       "      <td>93.994</td>\n",
       "      <td>-36.4</td>\n",
       "      <td>4.857</td>\n",
       "      <td>5191.0</td>\n",
       "      <td>no</td>\n",
       "    </tr>\n",
       "    <tr>\n",
       "      <th>3</th>\n",
       "      <td>40</td>\n",
       "      <td>admin.</td>\n",
       "      <td>married</td>\n",
       "      <td>basic.6y</td>\n",
       "      <td>no</td>\n",
       "      <td>no</td>\n",
       "      <td>no</td>\n",
       "      <td>telephone</td>\n",
       "      <td>may</td>\n",
       "      <td>mon</td>\n",
       "      <td>1</td>\n",
       "      <td>999</td>\n",
       "      <td>0</td>\n",
       "      <td>nonexistent</td>\n",
       "      <td>1.1</td>\n",
       "      <td>93.994</td>\n",
       "      <td>-36.4</td>\n",
       "      <td>4.857</td>\n",
       "      <td>5191.0</td>\n",
       "      <td>no</td>\n",
       "    </tr>\n",
       "    <tr>\n",
       "      <th>4</th>\n",
       "      <td>56</td>\n",
       "      <td>services</td>\n",
       "      <td>married</td>\n",
       "      <td>high.school</td>\n",
       "      <td>no</td>\n",
       "      <td>no</td>\n",
       "      <td>yes</td>\n",
       "      <td>telephone</td>\n",
       "      <td>may</td>\n",
       "      <td>mon</td>\n",
       "      <td>1</td>\n",
       "      <td>999</td>\n",
       "      <td>0</td>\n",
       "      <td>nonexistent</td>\n",
       "      <td>1.1</td>\n",
       "      <td>93.994</td>\n",
       "      <td>-36.4</td>\n",
       "      <td>4.857</td>\n",
       "      <td>5191.0</td>\n",
       "      <td>no</td>\n",
       "    </tr>\n",
       "  </tbody>\n",
       "</table>\n",
       "</div>"
      ],
      "text/plain": [
       "   age        job  marital    education  default housing loan    contact  \\\n",
       "0   56  housemaid  married     basic.4y       no      no   no  telephone   \n",
       "1   57   services  married  high.school  unknown      no   no  telephone   \n",
       "2   37   services  married  high.school       no     yes   no  telephone   \n",
       "3   40     admin.  married     basic.6y       no      no   no  telephone   \n",
       "4   56   services  married  high.school       no      no  yes  telephone   \n",
       "\n",
       "  month day_of_week  campaign  pdays  previous     poutcome  emp.var.rate  \\\n",
       "0   may         mon         1    999         0  nonexistent           1.1   \n",
       "1   may         mon         1    999         0  nonexistent           1.1   \n",
       "2   may         mon         1    999         0  nonexistent           1.1   \n",
       "3   may         mon         1    999         0  nonexistent           1.1   \n",
       "4   may         mon         1    999         0  nonexistent           1.1   \n",
       "\n",
       "   cons.price.idx  cons.conf.idx  euribor3m  nr.employed   y  \n",
       "0          93.994          -36.4      4.857       5191.0  no  \n",
       "1          93.994          -36.4      4.857       5191.0  no  \n",
       "2          93.994          -36.4      4.857       5191.0  no  \n",
       "3          93.994          -36.4      4.857       5191.0  no  \n",
       "4          93.994          -36.4      4.857       5191.0  no  "
      ]
     },
     "execution_count": 4,
     "metadata": {},
     "output_type": "execute_result"
    }
   ],
   "source": [
    "# The First Five Rows of Data\n",
    "dat.head(5)"
   ]
  },
  {
   "cell_type": "code",
   "execution_count": 5,
   "metadata": {},
   "outputs": [
    {
     "data": {
      "text/plain": [
       "(41188, 20)"
      ]
     },
     "execution_count": 5,
     "metadata": {},
     "output_type": "execute_result"
    }
   ],
   "source": [
    "# The dataset dimensions\n",
    "dat.shape"
   ]
  },
  {
   "cell_type": "code",
   "execution_count": 6,
   "metadata": {},
   "outputs": [
    {
     "data": {
      "text/plain": [
       "age                 int64\n",
       "job                object\n",
       "marital            object\n",
       "education          object\n",
       "default            object\n",
       "housing            object\n",
       "loan               object\n",
       "contact            object\n",
       "month              object\n",
       "day_of_week        object\n",
       "campaign            int64\n",
       "pdays               int64\n",
       "previous            int64\n",
       "poutcome           object\n",
       "emp.var.rate      float64\n",
       "cons.price.idx    float64\n",
       "cons.conf.idx     float64\n",
       "euribor3m         float64\n",
       "nr.employed       float64\n",
       "y                  object\n",
       "dtype: object"
      ]
     },
     "execution_count": 6,
     "metadata": {},
     "output_type": "execute_result"
    }
   ],
   "source": [
    "# The dataset data types\n",
    "dat.dtypes"
   ]
  },
  {
   "cell_type": "markdown",
   "metadata": {},
   "source": [
    "**Additional Analysis of pdays**"
   ]
  },
  {
   "cell_type": "code",
   "execution_count": 7,
   "metadata": {},
   "outputs": [
    {
     "data": {
      "text/plain": [
       "<AxesSubplot:xlabel='pdays', ylabel='Count'>"
      ]
     },
     "execution_count": 7,
     "metadata": {},
     "output_type": "execute_result"
    },
    {
     "data": {
      "image/png": "[encoded data removed]",
      "text/plain": [
       "<Figure size 720x288 with 1 Axes>"
      ]
     },
     "metadata": {},
     "output_type": "display_data"
    }
   ],
   "source": [
    "# I noticed that the feature 'pdays' uses 999 for cases where the client was not previously contacted\n",
    "# I wanted to just do some brief analysis to better understand the distribution of this data as it could impact the model results\n",
    "plt.figure(figsize = (10, 4))\n",
    "sns.histplot(dat, x=\"pdays\")\n",
    "# The data set is heavily dominate by 999 cases, therefore it looks like most clients in the data set have not been previously contacted\n",
    "# More analysis would need to be done to assess if this could be accounted for in a better way by separating these cases out"
   ]
  },
  {
   "cell_type": "markdown",
   "metadata": {},
   "source": [
    "### **Question 2**\n",
    "\n",
    "Based on the notes that came with the data set (i.e., see above), there is a predefined \"target variable\" (see above) provided for you (i.e., **y**). Plot the counts of cases in this variable using seaborn and then:\n",
    "\n",
    "1. explain what this variable tells us about client behavior (you may quote directly from the notes above)\n",
    "2. explain what type of variable it is\n",
    "3. explain what type of predictive model could be used to make predictions about it"
   ]
  },
  {
   "cell_type": "code",
   "execution_count": 8,
   "metadata": {},
   "outputs": [
    {
     "data": {
      "text/plain": [
       "<AxesSubplot:xlabel='y', ylabel='count'>"
      ]
     },
     "execution_count": 8,
     "metadata": {},
     "output_type": "execute_result"
    },
    {
     "data": {
      "image/png": "[encoded data removed]",
      "text/plain": [
       "<Figure size 504x432 with 1 Axes>"
      ]
     },
     "metadata": {},
     "output_type": "display_data"
    }
   ],
   "source": [
    "sns.countplot(x = 'y', \n",
    "              data = dat)"
   ]
  },
  {
   "cell_type": "markdown",
   "metadata": {},
   "source": [
    "*Answers:*\n",
    "1. The desired target variable **y** tells us whether the client has suscribed to a term deposit with the bank.\n",
    "\n",
    "2. This variable is binary with two levels: yes or no.\n",
    "\n",
    "3. A binary classification model on the target variable **y** could be used to make predictions based on the other features in the dataset."
   ]
  },
  {
   "cell_type": "markdown",
   "metadata": {},
   "source": [
    "### **Question 3**\n",
    "\n",
    "You will now perform predictive modeling using scikit-learn (sklearn). As the first step, using sklearn's [***train_test_split***](https://scikit-learn.org/stable/modules/generated/sklearn.model_selection.train_test_split.html) function, split the data into a stratified training and test subsets such that 75% of the data are used for training and 25% for testing."
   ]
  },
  {
   "cell_type": "code",
   "execution_count": 9,
   "metadata": {},
   "outputs": [],
   "source": [
    "Train, Test = train_test_split(dat, \n",
    "                               stratify = dat.y,\n",
    "                               test_size = 0.25, \n",
    "                               random_state = 345)"
   ]
  },
  {
   "cell_type": "markdown",
   "metadata": {},
   "source": [
    "### **Question 4**\n",
    "\n",
    "Show the counts of cases in the target variable for both the train and test split from the previous question."
   ]
  },
  {
   "cell_type": "code",
   "execution_count": 10,
   "metadata": {},
   "outputs": [
    {
     "data": {
      "text/plain": [
       "y\n",
       "no     27411\n",
       "yes     3480\n",
       "dtype: int64"
      ]
     },
     "metadata": {},
     "output_type": "display_data"
    }
   ],
   "source": [
    "display(Train.groupby('y').size())"
   ]
  },
  {
   "cell_type": "code",
   "execution_count": 11,
   "metadata": {},
   "outputs": [
    {
     "data": {
      "text/plain": [
       "y\n",
       "no     9137\n",
       "yes    1160\n",
       "dtype: int64"
      ]
     },
     "metadata": {},
     "output_type": "display_data"
    }
   ],
   "source": [
    "display(Test.groupby('y').size())"
   ]
  },
  {
   "cell_type": "markdown",
   "metadata": {},
   "source": [
    "### **Question 5**\n",
    "\n",
    "It's important to consider class balance for the target variable. To help make this easier to see, rather than the counts, show the proportions (i.e., overall percentages) of cases for the target variable in both the train and test splits."
   ]
  },
  {
   "cell_type": "code",
   "execution_count": 12,
   "metadata": {},
   "outputs": [
    {
     "data": {
      "text/plain": [
       "y\n",
       "no     0.887\n",
       "yes    0.113\n",
       "dtype: float64"
      ]
     },
     "execution_count": 12,
     "metadata": {},
     "output_type": "execute_result"
    }
   ],
   "source": [
    "round(Train.groupby('y').size()/len(Train), 3)"
   ]
  },
  {
   "cell_type": "code",
   "execution_count": 13,
   "metadata": {},
   "outputs": [
    {
     "data": {
      "text/plain": [
       "y\n",
       "no     0.887\n",
       "yes    0.113\n",
       "dtype: float64"
      ]
     },
     "execution_count": 13,
     "metadata": {},
     "output_type": "execute_result"
    }
   ],
   "source": [
    "round(Test.groupby('y').size()/len(Test), 3)"
   ]
  },
  {
   "cell_type": "markdown",
   "metadata": {},
   "source": [
    "### **Question 6**\n",
    "\n",
    "Are the classes heavily imbalanced in the training data? If so, create a downsampled version of the training data you'll use for the rest of the analysis (if not, no need to perform this step).\n",
    "\n",
    "Regardless of whether you ultimately downsampled or not, show the final dimensions (number of rows and columns) in the training data. Moreover, if you did downsample, also show the count and proportion of cases remaining in the training data."
   ]
  },
  {
   "cell_type": "code",
   "execution_count": 14,
   "metadata": {},
   "outputs": [
    {
     "data": {
      "text/plain": [
       "(6960, 20)"
      ]
     },
     "execution_count": 14,
     "metadata": {},
     "output_type": "execute_result"
    }
   ],
   "source": [
    "np.random.seed(345) # to create reproducible results\n",
    "\n",
    "maj_class = np.where(Train.y == 'no')[0]\n",
    "min_class = np.where(Train.y == 'yes')[0]\n",
    "\n",
    "resample = np.random.choice(maj_class, size = len(min_class), replace = False)\n",
    "\n",
    "TrainDS = pd.concat([Train.iloc[min_class], Train.iloc[resample]])\n",
    "\n",
    "TrainDS.shape"
   ]
  },
  {
   "cell_type": "code",
   "execution_count": 15,
   "metadata": {},
   "outputs": [
    {
     "data": {
      "text/plain": [
       "y\n",
       "no     3480\n",
       "yes    3480\n",
       "dtype: int64"
      ]
     },
     "metadata": {},
     "output_type": "display_data"
    },
    {
     "data": {
      "text/plain": [
       "y\n",
       "no     0.5\n",
       "yes    0.5\n",
       "dtype: float64"
      ]
     },
     "execution_count": 15,
     "metadata": {},
     "output_type": "execute_result"
    }
   ],
   "source": [
    "display(TrainDS.groupby('y').size())\n",
    "round(TrainDS.groupby('y').size()/len(TrainDS), 3)"
   ]
  },
  {
   "cell_type": "markdown",
   "metadata": {},
   "source": [
    "### **Question 7**\n",
    "\n",
    "It's time to start preprocessing the training data for building your predictive models. To get started, show whether the training data contains any missing values or not.\n",
    "\n",
    "Are there missing values? If so, perform median imputation for continuous variables and constant imputation for categorical variables using sklearn's [***SimpleImputer***](https://scikit-learn.org/stable/modules/generated/sklearn.impute.SimpleImputer.html). If not, move on to the next step."
   ]
  },
  {
   "cell_type": "code",
   "execution_count": 16,
   "metadata": {},
   "outputs": [
    {
     "data": {
      "text/plain": [
       "0.0"
      ]
     },
     "execution_count": 16,
     "metadata": {},
     "output_type": "execute_result"
    }
   ],
   "source": [
    "round(1 - len(TrainDS.dropna())/len(TrainDS), 3)\n",
    "\n",
    "# There are no missing data for the training set"
   ]
  },
  {
   "cell_type": "markdown",
   "metadata": {},
   "source": [
    "### **Question 8**"
   ]
  },
  {
   "cell_type": "markdown",
   "metadata": {},
   "source": [
    "Encode all categorical (or non-continuous) data in the training data into binary columns using sklearn's [***OneHotEncoder***](https://scikit-learn.org/stable/modules/generated/sklearn.preprocessing.OneHotEncoder.html) and show the first five rows of the training data after encoding.\n",
    "\n",
    "**Note:** you should not encode the target variable!"
   ]
  },
  {
   "cell_type": "code",
   "execution_count": 17,
   "metadata": {},
   "outputs": [
    {
     "data": {
      "text/html": [
       "<div>\n",
       "<style scoped>\n",
       "    .dataframe tbody tr th:only-of-type {\n",
       "        vertical-align: middle;\n",
       "    }\n",
       "\n",
       "    .dataframe tbody tr th {\n",
       "        vertical-align: top;\n",
       "    }\n",
       "\n",
       "    .dataframe thead th {\n",
       "        text-align: right;\n",
       "    }\n",
       "</style>\n",
       "<table border=\"1\" class=\"dataframe\">\n",
       "  <thead>\n",
       "    <tr style=\"text-align: right;\">\n",
       "      <th></th>\n",
       "      <th>age</th>\n",
       "      <th>campaign</th>\n",
       "      <th>pdays</th>\n",
       "      <th>previous</th>\n",
       "      <th>emp.var.rate</th>\n",
       "      <th>cons.price.idx</th>\n",
       "      <th>cons.conf.idx</th>\n",
       "      <th>euribor3m</th>\n",
       "      <th>nr.employed</th>\n",
       "      <th>y</th>\n",
       "      <th>...</th>\n",
       "      <th>month_oct</th>\n",
       "      <th>month_sep</th>\n",
       "      <th>day_of_week_fri</th>\n",
       "      <th>day_of_week_mon</th>\n",
       "      <th>day_of_week_thu</th>\n",
       "      <th>day_of_week_tue</th>\n",
       "      <th>day_of_week_wed</th>\n",
       "      <th>poutcome_failure</th>\n",
       "      <th>poutcome_nonexistent</th>\n",
       "      <th>poutcome_success</th>\n",
       "    </tr>\n",
       "  </thead>\n",
       "  <tbody>\n",
       "    <tr>\n",
       "      <th>39021</th>\n",
       "      <td>56</td>\n",
       "      <td>1</td>\n",
       "      <td>999</td>\n",
       "      <td>0</td>\n",
       "      <td>-3.0</td>\n",
       "      <td>92.713</td>\n",
       "      <td>-33.0</td>\n",
       "      <td>0.714</td>\n",
       "      <td>5023.5</td>\n",
       "      <td>yes</td>\n",
       "      <td>...</td>\n",
       "      <td>0.0</td>\n",
       "      <td>0.0</td>\n",
       "      <td>0.0</td>\n",
       "      <td>0.0</td>\n",
       "      <td>1.0</td>\n",
       "      <td>0.0</td>\n",
       "      <td>0.0</td>\n",
       "      <td>0.0</td>\n",
       "      <td>1.0</td>\n",
       "      <td>0.0</td>\n",
       "    </tr>\n",
       "    <tr>\n",
       "      <th>40377</th>\n",
       "      <td>34</td>\n",
       "      <td>1</td>\n",
       "      <td>10</td>\n",
       "      <td>2</td>\n",
       "      <td>-1.7</td>\n",
       "      <td>94.027</td>\n",
       "      <td>-38.3</td>\n",
       "      <td>0.900</td>\n",
       "      <td>4991.6</td>\n",
       "      <td>yes</td>\n",
       "      <td>...</td>\n",
       "      <td>0.0</td>\n",
       "      <td>0.0</td>\n",
       "      <td>0.0</td>\n",
       "      <td>0.0</td>\n",
       "      <td>0.0</td>\n",
       "      <td>0.0</td>\n",
       "      <td>1.0</td>\n",
       "      <td>1.0</td>\n",
       "      <td>0.0</td>\n",
       "      <td>0.0</td>\n",
       "    </tr>\n",
       "    <tr>\n",
       "      <th>40498</th>\n",
       "      <td>36</td>\n",
       "      <td>6</td>\n",
       "      <td>999</td>\n",
       "      <td>0</td>\n",
       "      <td>-1.7</td>\n",
       "      <td>94.027</td>\n",
       "      <td>-38.3</td>\n",
       "      <td>0.898</td>\n",
       "      <td>4991.6</td>\n",
       "      <td>yes</td>\n",
       "      <td>...</td>\n",
       "      <td>0.0</td>\n",
       "      <td>0.0</td>\n",
       "      <td>1.0</td>\n",
       "      <td>0.0</td>\n",
       "      <td>0.0</td>\n",
       "      <td>0.0</td>\n",
       "      <td>0.0</td>\n",
       "      <td>0.0</td>\n",
       "      <td>1.0</td>\n",
       "      <td>0.0</td>\n",
       "    </tr>\n",
       "    <tr>\n",
       "      <th>37987</th>\n",
       "      <td>45</td>\n",
       "      <td>1</td>\n",
       "      <td>3</td>\n",
       "      <td>2</td>\n",
       "      <td>-3.4</td>\n",
       "      <td>92.379</td>\n",
       "      <td>-29.8</td>\n",
       "      <td>0.797</td>\n",
       "      <td>5017.5</td>\n",
       "      <td>yes</td>\n",
       "      <td>...</td>\n",
       "      <td>0.0</td>\n",
       "      <td>1.0</td>\n",
       "      <td>0.0</td>\n",
       "      <td>1.0</td>\n",
       "      <td>0.0</td>\n",
       "      <td>0.0</td>\n",
       "      <td>0.0</td>\n",
       "      <td>0.0</td>\n",
       "      <td>0.0</td>\n",
       "      <td>1.0</td>\n",
       "    </tr>\n",
       "    <tr>\n",
       "      <th>18587</th>\n",
       "      <td>39</td>\n",
       "      <td>4</td>\n",
       "      <td>999</td>\n",
       "      <td>0</td>\n",
       "      <td>1.4</td>\n",
       "      <td>93.918</td>\n",
       "      <td>-42.7</td>\n",
       "      <td>4.968</td>\n",
       "      <td>5228.1</td>\n",
       "      <td>yes</td>\n",
       "      <td>...</td>\n",
       "      <td>0.0</td>\n",
       "      <td>0.0</td>\n",
       "      <td>0.0</td>\n",
       "      <td>0.0</td>\n",
       "      <td>1.0</td>\n",
       "      <td>0.0</td>\n",
       "      <td>0.0</td>\n",
       "      <td>0.0</td>\n",
       "      <td>1.0</td>\n",
       "      <td>0.0</td>\n",
       "    </tr>\n",
       "  </tbody>\n",
       "</table>\n",
       "<p>5 rows × 62 columns</p>\n",
       "</div>"
      ],
      "text/plain": [
       "       age  campaign  pdays  previous  emp.var.rate  cons.price.idx  \\\n",
       "39021   56         1    999         0          -3.0          92.713   \n",
       "40377   34         1     10         2          -1.7          94.027   \n",
       "40498   36         6    999         0          -1.7          94.027   \n",
       "37987   45         1      3         2          -3.4          92.379   \n",
       "18587   39         4    999         0           1.4          93.918   \n",
       "\n",
       "       cons.conf.idx  euribor3m  nr.employed    y  ...  month_oct  month_sep  \\\n",
       "39021          -33.0      0.714       5023.5  yes  ...        0.0        0.0   \n",
       "40377          -38.3      0.900       4991.6  yes  ...        0.0        0.0   \n",
       "40498          -38.3      0.898       4991.6  yes  ...        0.0        0.0   \n",
       "37987          -29.8      0.797       5017.5  yes  ...        0.0        1.0   \n",
       "18587          -42.7      4.968       5228.1  yes  ...        0.0        0.0   \n",
       "\n",
       "       day_of_week_fri  day_of_week_mon  day_of_week_thu  day_of_week_tue  \\\n",
       "39021              0.0              0.0              1.0              0.0   \n",
       "40377              0.0              0.0              0.0              0.0   \n",
       "40498              1.0              0.0              0.0              0.0   \n",
       "37987              0.0              1.0              0.0              0.0   \n",
       "18587              0.0              0.0              1.0              0.0   \n",
       "\n",
       "       day_of_week_wed  poutcome_failure  poutcome_nonexistent  \\\n",
       "39021              0.0               0.0                   1.0   \n",
       "40377              1.0               1.0                   0.0   \n",
       "40498              0.0               0.0                   1.0   \n",
       "37987              0.0               0.0                   0.0   \n",
       "18587              0.0               0.0                   1.0   \n",
       "\n",
       "       poutcome_success  \n",
       "39021               0.0  \n",
       "40377               0.0  \n",
       "40498               0.0  \n",
       "37987               1.0  \n",
       "18587               0.0  \n",
       "\n",
       "[5 rows x 62 columns]"
      ]
     },
     "execution_count": 17,
     "metadata": {},
     "output_type": "execute_result"
    }
   ],
   "source": [
    "enc = OneHotEncoder(handle_unknown = 'ignore', \n",
    "                    sparse = False)\n",
    "\n",
    "enc_raw_data_train = TrainDS.drop(columns = 'y').select_dtypes(include = ['object', 'category'])\n",
    "\n",
    "enc = enc.fit(enc_raw_data_train)\n",
    "\n",
    "encoded_data_train = pd.DataFrame(enc.transform(enc_raw_data_train))\n",
    "\n",
    "encoded_data_train.columns = enc.get_feature_names(enc_raw_data_train.columns)\n",
    "encoded_data_train.index = enc_raw_data_train.index\n",
    "\n",
    "TrainDS_Enc = pd.concat([TrainDS.drop(enc_raw_data_train.columns, axis = 1), encoded_data_train], axis = 1)\n",
    "\n",
    "TrainDS_Enc.head(5)"
   ]
  },
  {
   "cell_type": "markdown",
   "metadata": {},
   "source": [
    "### **Question 9**\n",
    "\n",
    "Use sklearn's [***VarianceThreshold***](https://scikit-learn.org/stable/modules/generated/sklearn.feature_selection.VarianceThreshold.html) function to remove any columns from the training data that happen to have zero variance at this point.\n",
    "\n",
    "Show the first five rows of the training data after performing this step."
   ]
  },
  {
   "cell_type": "code",
   "execution_count": 18,
   "metadata": {},
   "outputs": [
    {
     "data": {
      "text/html": [
       "<div>\n",
       "<style scoped>\n",
       "    .dataframe tbody tr th:only-of-type {\n",
       "        vertical-align: middle;\n",
       "    }\n",
       "\n",
       "    .dataframe tbody tr th {\n",
       "        vertical-align: top;\n",
       "    }\n",
       "\n",
       "    .dataframe thead th {\n",
       "        text-align: right;\n",
       "    }\n",
       "</style>\n",
       "<table border=\"1\" class=\"dataframe\">\n",
       "  <thead>\n",
       "    <tr style=\"text-align: right;\">\n",
       "      <th></th>\n",
       "      <th>y</th>\n",
       "      <th>age</th>\n",
       "      <th>campaign</th>\n",
       "      <th>pdays</th>\n",
       "      <th>previous</th>\n",
       "      <th>emp.var.rate</th>\n",
       "      <th>cons.price.idx</th>\n",
       "      <th>cons.conf.idx</th>\n",
       "      <th>euribor3m</th>\n",
       "      <th>nr.employed</th>\n",
       "      <th>...</th>\n",
       "      <th>month_oct</th>\n",
       "      <th>month_sep</th>\n",
       "      <th>day_of_week_fri</th>\n",
       "      <th>day_of_week_mon</th>\n",
       "      <th>day_of_week_thu</th>\n",
       "      <th>day_of_week_tue</th>\n",
       "      <th>day_of_week_wed</th>\n",
       "      <th>poutcome_failure</th>\n",
       "      <th>poutcome_nonexistent</th>\n",
       "      <th>poutcome_success</th>\n",
       "    </tr>\n",
       "  </thead>\n",
       "  <tbody>\n",
       "    <tr>\n",
       "      <th>39021</th>\n",
       "      <td>yes</td>\n",
       "      <td>56.0</td>\n",
       "      <td>1.0</td>\n",
       "      <td>999.0</td>\n",
       "      <td>0.0</td>\n",
       "      <td>-3.0</td>\n",
       "      <td>92.713</td>\n",
       "      <td>-33.0</td>\n",
       "      <td>0.714</td>\n",
       "      <td>5023.5</td>\n",
       "      <td>...</td>\n",
       "      <td>0.0</td>\n",
       "      <td>0.0</td>\n",
       "      <td>0.0</td>\n",
       "      <td>0.0</td>\n",
       "      <td>1.0</td>\n",
       "      <td>0.0</td>\n",
       "      <td>0.0</td>\n",
       "      <td>0.0</td>\n",
       "      <td>1.0</td>\n",
       "      <td>0.0</td>\n",
       "    </tr>\n",
       "    <tr>\n",
       "      <th>40377</th>\n",
       "      <td>yes</td>\n",
       "      <td>34.0</td>\n",
       "      <td>1.0</td>\n",
       "      <td>10.0</td>\n",
       "      <td>2.0</td>\n",
       "      <td>-1.7</td>\n",
       "      <td>94.027</td>\n",
       "      <td>-38.3</td>\n",
       "      <td>0.900</td>\n",
       "      <td>4991.6</td>\n",
       "      <td>...</td>\n",
       "      <td>0.0</td>\n",
       "      <td>0.0</td>\n",
       "      <td>0.0</td>\n",
       "      <td>0.0</td>\n",
       "      <td>0.0</td>\n",
       "      <td>0.0</td>\n",
       "      <td>1.0</td>\n",
       "      <td>1.0</td>\n",
       "      <td>0.0</td>\n",
       "      <td>0.0</td>\n",
       "    </tr>\n",
       "    <tr>\n",
       "      <th>40498</th>\n",
       "      <td>yes</td>\n",
       "      <td>36.0</td>\n",
       "      <td>6.0</td>\n",
       "      <td>999.0</td>\n",
       "      <td>0.0</td>\n",
       "      <td>-1.7</td>\n",
       "      <td>94.027</td>\n",
       "      <td>-38.3</td>\n",
       "      <td>0.898</td>\n",
       "      <td>4991.6</td>\n",
       "      <td>...</td>\n",
       "      <td>0.0</td>\n",
       "      <td>0.0</td>\n",
       "      <td>1.0</td>\n",
       "      <td>0.0</td>\n",
       "      <td>0.0</td>\n",
       "      <td>0.0</td>\n",
       "      <td>0.0</td>\n",
       "      <td>0.0</td>\n",
       "      <td>1.0</td>\n",
       "      <td>0.0</td>\n",
       "    </tr>\n",
       "    <tr>\n",
       "      <th>37987</th>\n",
       "      <td>yes</td>\n",
       "      <td>45.0</td>\n",
       "      <td>1.0</td>\n",
       "      <td>3.0</td>\n",
       "      <td>2.0</td>\n",
       "      <td>-3.4</td>\n",
       "      <td>92.379</td>\n",
       "      <td>-29.8</td>\n",
       "      <td>0.797</td>\n",
       "      <td>5017.5</td>\n",
       "      <td>...</td>\n",
       "      <td>0.0</td>\n",
       "      <td>1.0</td>\n",
       "      <td>0.0</td>\n",
       "      <td>1.0</td>\n",
       "      <td>0.0</td>\n",
       "      <td>0.0</td>\n",
       "      <td>0.0</td>\n",
       "      <td>0.0</td>\n",
       "      <td>0.0</td>\n",
       "      <td>1.0</td>\n",
       "    </tr>\n",
       "    <tr>\n",
       "      <th>18587</th>\n",
       "      <td>yes</td>\n",
       "      <td>39.0</td>\n",
       "      <td>4.0</td>\n",
       "      <td>999.0</td>\n",
       "      <td>0.0</td>\n",
       "      <td>1.4</td>\n",
       "      <td>93.918</td>\n",
       "      <td>-42.7</td>\n",
       "      <td>4.968</td>\n",
       "      <td>5228.1</td>\n",
       "      <td>...</td>\n",
       "      <td>0.0</td>\n",
       "      <td>0.0</td>\n",
       "      <td>0.0</td>\n",
       "      <td>0.0</td>\n",
       "      <td>1.0</td>\n",
       "      <td>0.0</td>\n",
       "      <td>0.0</td>\n",
       "      <td>0.0</td>\n",
       "      <td>1.0</td>\n",
       "      <td>0.0</td>\n",
       "    </tr>\n",
       "  </tbody>\n",
       "</table>\n",
       "<p>5 rows × 62 columns</p>\n",
       "</div>"
      ],
      "text/plain": [
       "         y   age  campaign  pdays  previous  emp.var.rate  cons.price.idx  \\\n",
       "39021  yes  56.0       1.0  999.0       0.0          -3.0          92.713   \n",
       "40377  yes  34.0       1.0   10.0       2.0          -1.7          94.027   \n",
       "40498  yes  36.0       6.0  999.0       0.0          -1.7          94.027   \n",
       "37987  yes  45.0       1.0    3.0       2.0          -3.4          92.379   \n",
       "18587  yes  39.0       4.0  999.0       0.0           1.4          93.918   \n",
       "\n",
       "       cons.conf.idx  euribor3m  nr.employed  ...  month_oct  month_sep  \\\n",
       "39021          -33.0      0.714       5023.5  ...        0.0        0.0   \n",
       "40377          -38.3      0.900       4991.6  ...        0.0        0.0   \n",
       "40498          -38.3      0.898       4991.6  ...        0.0        0.0   \n",
       "37987          -29.8      0.797       5017.5  ...        0.0        1.0   \n",
       "18587          -42.7      4.968       5228.1  ...        0.0        0.0   \n",
       "\n",
       "       day_of_week_fri  day_of_week_mon  day_of_week_thu  day_of_week_tue  \\\n",
       "39021              0.0              0.0              1.0              0.0   \n",
       "40377              0.0              0.0              0.0              0.0   \n",
       "40498              1.0              0.0              0.0              0.0   \n",
       "37987              0.0              1.0              0.0              0.0   \n",
       "18587              0.0              0.0              1.0              0.0   \n",
       "\n",
       "       day_of_week_wed  poutcome_failure  poutcome_nonexistent  \\\n",
       "39021              0.0               0.0                   1.0   \n",
       "40377              1.0               1.0                   0.0   \n",
       "40498              0.0               0.0                   1.0   \n",
       "37987              0.0               0.0                   0.0   \n",
       "18587              0.0               0.0                   1.0   \n",
       "\n",
       "       poutcome_success  \n",
       "39021               0.0  \n",
       "40377               0.0  \n",
       "40498               0.0  \n",
       "37987               1.0  \n",
       "18587               0.0  \n",
       "\n",
       "[5 rows x 62 columns]"
      ]
     },
     "execution_count": 18,
     "metadata": {},
     "output_type": "execute_result"
    }
   ],
   "source": [
    "selector = VarianceThreshold()\n",
    "\n",
    "sel_raw_data_train = TrainDS_Enc.drop(columns = 'y')\n",
    "\n",
    "selector = selector.fit(sel_raw_data_train)\n",
    "\n",
    "selected_data_train = pd.DataFrame(selector.transform(sel_raw_data_train))\n",
    "\n",
    "selected_data_train.columns = sel_raw_data_train.columns\n",
    "selected_data_train.index = sel_raw_data_train.index\n",
    "\n",
    "TrainDS_EncSel = pd.concat([TrainDS_Enc.drop(sel_raw_data_train.columns, axis = 1), selected_data_train], axis = 1)\n",
    "\n",
    "TrainDS_EncSel.head(5)"
   ]
  },
  {
   "cell_type": "markdown",
   "metadata": {},
   "source": [
    "### **Question 10**\n",
    "\n",
    "Use sklearn's [***RobustScaler***](https://scikit-learn.org/stable/modules/generated/sklearn.preprocessing.RobustScaler.html) to scale all of the data in the data set except the target variable.\n",
    "\n",
    "Show the first five rows of the training data after performing this step."
   ]
  },
  {
   "cell_type": "code",
   "execution_count": 19,
   "metadata": {},
   "outputs": [
    {
     "data": {
      "text/html": [
       "<div>\n",
       "<style scoped>\n",
       "    .dataframe tbody tr th:only-of-type {\n",
       "        vertical-align: middle;\n",
       "    }\n",
       "\n",
       "    .dataframe tbody tr th {\n",
       "        vertical-align: top;\n",
       "    }\n",
       "\n",
       "    .dataframe thead th {\n",
       "        text-align: right;\n",
       "    }\n",
       "</style>\n",
       "<table border=\"1\" class=\"dataframe\">\n",
       "  <thead>\n",
       "    <tr style=\"text-align: right;\">\n",
       "      <th></th>\n",
       "      <th>y</th>\n",
       "      <th>age</th>\n",
       "      <th>campaign</th>\n",
       "      <th>pdays</th>\n",
       "      <th>previous</th>\n",
       "      <th>emp.var.rate</th>\n",
       "      <th>cons.price.idx</th>\n",
       "      <th>cons.conf.idx</th>\n",
       "      <th>euribor3m</th>\n",
       "      <th>nr.employed</th>\n",
       "      <th>...</th>\n",
       "      <th>month_oct</th>\n",
       "      <th>month_sep</th>\n",
       "      <th>day_of_week_fri</th>\n",
       "      <th>day_of_week_mon</th>\n",
       "      <th>day_of_week_thu</th>\n",
       "      <th>day_of_week_tue</th>\n",
       "      <th>day_of_week_wed</th>\n",
       "      <th>poutcome_failure</th>\n",
       "      <th>poutcome_nonexistent</th>\n",
       "      <th>poutcome_success</th>\n",
       "    </tr>\n",
       "  </thead>\n",
       "  <tbody>\n",
       "    <tr>\n",
       "      <th>39021</th>\n",
       "      <td>yes</td>\n",
       "      <td>1.058824</td>\n",
       "      <td>-0.5</td>\n",
       "      <td>0.0</td>\n",
       "      <td>0.0</td>\n",
       "      <td>-0.90625</td>\n",
       "      <td>-0.663942</td>\n",
       "      <td>1.396825</td>\n",
       "      <td>-0.890175</td>\n",
       "      <td>-1.102699</td>\n",
       "      <td>...</td>\n",
       "      <td>0.0</td>\n",
       "      <td>0.0</td>\n",
       "      <td>0.0</td>\n",
       "      <td>0.0</td>\n",
       "      <td>1.0</td>\n",
       "      <td>0.0</td>\n",
       "      <td>0.0</td>\n",
       "      <td>0.0</td>\n",
       "      <td>0.0</td>\n",
       "      <td>0.0</td>\n",
       "    </tr>\n",
       "    <tr>\n",
       "      <th>40377</th>\n",
       "      <td>yes</td>\n",
       "      <td>-0.235294</td>\n",
       "      <td>-0.5</td>\n",
       "      <td>-989.0</td>\n",
       "      <td>2.0</td>\n",
       "      <td>-0.50000</td>\n",
       "      <td>0.529519</td>\n",
       "      <td>0.555556</td>\n",
       "      <td>-0.840108</td>\n",
       "      <td>-1.312706</td>\n",
       "      <td>...</td>\n",
       "      <td>0.0</td>\n",
       "      <td>0.0</td>\n",
       "      <td>0.0</td>\n",
       "      <td>0.0</td>\n",
       "      <td>0.0</td>\n",
       "      <td>0.0</td>\n",
       "      <td>1.0</td>\n",
       "      <td>1.0</td>\n",
       "      <td>-1.0</td>\n",
       "      <td>0.0</td>\n",
       "    </tr>\n",
       "    <tr>\n",
       "      <th>40498</th>\n",
       "      <td>yes</td>\n",
       "      <td>-0.117647</td>\n",
       "      <td>2.0</td>\n",
       "      <td>0.0</td>\n",
       "      <td>0.0</td>\n",
       "      <td>-0.50000</td>\n",
       "      <td>0.529519</td>\n",
       "      <td>0.555556</td>\n",
       "      <td>-0.840646</td>\n",
       "      <td>-1.312706</td>\n",
       "      <td>...</td>\n",
       "      <td>0.0</td>\n",
       "      <td>0.0</td>\n",
       "      <td>1.0</td>\n",
       "      <td>0.0</td>\n",
       "      <td>0.0</td>\n",
       "      <td>0.0</td>\n",
       "      <td>0.0</td>\n",
       "      <td>0.0</td>\n",
       "      <td>0.0</td>\n",
       "      <td>0.0</td>\n",
       "    </tr>\n",
       "    <tr>\n",
       "      <th>37987</th>\n",
       "      <td>yes</td>\n",
       "      <td>0.411765</td>\n",
       "      <td>-0.5</td>\n",
       "      <td>-996.0</td>\n",
       "      <td>2.0</td>\n",
       "      <td>-1.03125</td>\n",
       "      <td>-0.967302</td>\n",
       "      <td>1.904762</td>\n",
       "      <td>-0.867833</td>\n",
       "      <td>-1.142199</td>\n",
       "      <td>...</td>\n",
       "      <td>0.0</td>\n",
       "      <td>1.0</td>\n",
       "      <td>0.0</td>\n",
       "      <td>1.0</td>\n",
       "      <td>0.0</td>\n",
       "      <td>0.0</td>\n",
       "      <td>0.0</td>\n",
       "      <td>0.0</td>\n",
       "      <td>-1.0</td>\n",
       "      <td>1.0</td>\n",
       "    </tr>\n",
       "    <tr>\n",
       "      <th>18587</th>\n",
       "      <td>yes</td>\n",
       "      <td>0.058824</td>\n",
       "      <td>1.0</td>\n",
       "      <td>0.0</td>\n",
       "      <td>0.0</td>\n",
       "      <td>0.46875</td>\n",
       "      <td>0.430518</td>\n",
       "      <td>-0.142857</td>\n",
       "      <td>0.254913</td>\n",
       "      <td>0.244240</td>\n",
       "      <td>...</td>\n",
       "      <td>0.0</td>\n",
       "      <td>0.0</td>\n",
       "      <td>0.0</td>\n",
       "      <td>0.0</td>\n",
       "      <td>1.0</td>\n",
       "      <td>0.0</td>\n",
       "      <td>0.0</td>\n",
       "      <td>0.0</td>\n",
       "      <td>0.0</td>\n",
       "      <td>0.0</td>\n",
       "    </tr>\n",
       "  </tbody>\n",
       "</table>\n",
       "<p>5 rows × 62 columns</p>\n",
       "</div>"
      ],
      "text/plain": [
       "         y       age  campaign  pdays  previous  emp.var.rate  cons.price.idx  \\\n",
       "39021  yes  1.058824      -0.5    0.0       0.0      -0.90625       -0.663942   \n",
       "40377  yes -0.235294      -0.5 -989.0       2.0      -0.50000        0.529519   \n",
       "40498  yes -0.117647       2.0    0.0       0.0      -0.50000        0.529519   \n",
       "37987  yes  0.411765      -0.5 -996.0       2.0      -1.03125       -0.967302   \n",
       "18587  yes  0.058824       1.0    0.0       0.0       0.46875        0.430518   \n",
       "\n",
       "       cons.conf.idx  euribor3m  nr.employed  ...  month_oct  month_sep  \\\n",
       "39021       1.396825  -0.890175    -1.102699  ...        0.0        0.0   \n",
       "40377       0.555556  -0.840108    -1.312706  ...        0.0        0.0   \n",
       "40498       0.555556  -0.840646    -1.312706  ...        0.0        0.0   \n",
       "37987       1.904762  -0.867833    -1.142199  ...        0.0        1.0   \n",
       "18587      -0.142857   0.254913     0.244240  ...        0.0        0.0   \n",
       "\n",
       "       day_of_week_fri  day_of_week_mon  day_of_week_thu  day_of_week_tue  \\\n",
       "39021              0.0              0.0              1.0              0.0   \n",
       "40377              0.0              0.0              0.0              0.0   \n",
       "40498              1.0              0.0              0.0              0.0   \n",
       "37987              0.0              1.0              0.0              0.0   \n",
       "18587              0.0              0.0              1.0              0.0   \n",
       "\n",
       "       day_of_week_wed  poutcome_failure  poutcome_nonexistent  \\\n",
       "39021              0.0               0.0                   0.0   \n",
       "40377              1.0               1.0                  -1.0   \n",
       "40498              0.0               0.0                   0.0   \n",
       "37987              0.0               0.0                  -1.0   \n",
       "18587              0.0               0.0                   0.0   \n",
       "\n",
       "       poutcome_success  \n",
       "39021               0.0  \n",
       "40377               0.0  \n",
       "40498               0.0  \n",
       "37987               1.0  \n",
       "18587               0.0  \n",
       "\n",
       "[5 rows x 62 columns]"
      ]
     },
     "execution_count": 19,
     "metadata": {},
     "output_type": "execute_result"
    }
   ],
   "source": [
    "scaler = RobustScaler()\n",
    "\n",
    "sca_raw_data_train = TrainDS_EncSel.drop(columns = 'y').select_dtypes(exclude = ['object', 'category'])\n",
    "\n",
    "scaler = scaler.fit(sca_raw_data_train)\n",
    "\n",
    "scaled_data_train = pd.DataFrame(scaler.transform(sca_raw_data_train))\n",
    "\n",
    "scaled_data_train.columns = sca_raw_data_train.columns\n",
    "scaled_data_train.index = sca_raw_data_train.index\n",
    "\n",
    "TrainDS_EncSelSca = pd.concat([TrainDS_EncSel.drop(sca_raw_data_train.columns, axis = 1), scaled_data_train], axis = 1)\n",
    "\n",
    "TrainDS_EncSelSca.head(5)"
   ]
  },
  {
   "cell_type": "markdown",
   "metadata": {},
   "source": [
    "### **Question 11**\n",
    "\n",
    "Apply any relevant preprocessing steps you performed in Questions 7-10 to the test data using settings based on the training data to avoid leakage.\n",
    "\n",
    "Show the first five rows of the test data after performing this step."
   ]
  },
  {
   "cell_type": "code",
   "execution_count": 20,
   "metadata": {},
   "outputs": [
    {
     "data": {
      "text/plain": [
       "0.0"
      ]
     },
     "execution_count": 20,
     "metadata": {},
     "output_type": "execute_result"
    }
   ],
   "source": [
    "round(1 - len(Test.dropna())/len(Test), 3)\n",
    "\n",
    "# There are no missing data for the testing set, so no imputation using training set is required."
   ]
  },
  {
   "cell_type": "code",
   "execution_count": 21,
   "metadata": {},
   "outputs": [
    {
     "data": {
      "text/html": [
       "<div>\n",
       "<style scoped>\n",
       "    .dataframe tbody tr th:only-of-type {\n",
       "        vertical-align: middle;\n",
       "    }\n",
       "\n",
       "    .dataframe tbody tr th {\n",
       "        vertical-align: top;\n",
       "    }\n",
       "\n",
       "    .dataframe thead th {\n",
       "        text-align: right;\n",
       "    }\n",
       "</style>\n",
       "<table border=\"1\" class=\"dataframe\">\n",
       "  <thead>\n",
       "    <tr style=\"text-align: right;\">\n",
       "      <th></th>\n",
       "      <th>y</th>\n",
       "      <th>age</th>\n",
       "      <th>campaign</th>\n",
       "      <th>pdays</th>\n",
       "      <th>previous</th>\n",
       "      <th>emp.var.rate</th>\n",
       "      <th>cons.price.idx</th>\n",
       "      <th>cons.conf.idx</th>\n",
       "      <th>euribor3m</th>\n",
       "      <th>nr.employed</th>\n",
       "      <th>...</th>\n",
       "      <th>month_oct</th>\n",
       "      <th>month_sep</th>\n",
       "      <th>day_of_week_fri</th>\n",
       "      <th>day_of_week_mon</th>\n",
       "      <th>day_of_week_thu</th>\n",
       "      <th>day_of_week_tue</th>\n",
       "      <th>day_of_week_wed</th>\n",
       "      <th>poutcome_failure</th>\n",
       "      <th>poutcome_nonexistent</th>\n",
       "      <th>poutcome_success</th>\n",
       "    </tr>\n",
       "  </thead>\n",
       "  <tbody>\n",
       "    <tr>\n",
       "      <th>39548</th>\n",
       "      <td>no</td>\n",
       "      <td>-0.117647</td>\n",
       "      <td>-0.5</td>\n",
       "      <td>0.0</td>\n",
       "      <td>0.0</td>\n",
       "      <td>-0.53125</td>\n",
       "      <td>0.277021</td>\n",
       "      <td>1.142857</td>\n",
       "      <td>-0.904980</td>\n",
       "      <td>-1.200132</td>\n",
       "      <td>...</td>\n",
       "      <td>0.0</td>\n",
       "      <td>0.0</td>\n",
       "      <td>0.0</td>\n",
       "      <td>0.0</td>\n",
       "      <td>1.0</td>\n",
       "      <td>0.0</td>\n",
       "      <td>0.0</td>\n",
       "      <td>0.0</td>\n",
       "      <td>0.0</td>\n",
       "      <td>0.0</td>\n",
       "    </tr>\n",
       "    <tr>\n",
       "      <th>38752</th>\n",
       "      <td>no</td>\n",
       "      <td>-0.058824</td>\n",
       "      <td>1.0</td>\n",
       "      <td>-993.0</td>\n",
       "      <td>1.0</td>\n",
       "      <td>-1.03125</td>\n",
       "      <td>-0.722071</td>\n",
       "      <td>1.857143</td>\n",
       "      <td>-0.889906</td>\n",
       "      <td>-1.142199</td>\n",
       "      <td>...</td>\n",
       "      <td>0.0</td>\n",
       "      <td>0.0</td>\n",
       "      <td>0.0</td>\n",
       "      <td>0.0</td>\n",
       "      <td>0.0</td>\n",
       "      <td>0.0</td>\n",
       "      <td>1.0</td>\n",
       "      <td>0.0</td>\n",
       "      <td>-1.0</td>\n",
       "      <td>1.0</td>\n",
       "    </tr>\n",
       "    <tr>\n",
       "      <th>24182</th>\n",
       "      <td>no</td>\n",
       "      <td>-0.058824</td>\n",
       "      <td>-0.5</td>\n",
       "      <td>0.0</td>\n",
       "      <td>0.0</td>\n",
       "      <td>0.00000</td>\n",
       "      <td>-0.221617</td>\n",
       "      <td>-0.031746</td>\n",
       "      <td>0.045760</td>\n",
       "      <td>0.031600</td>\n",
       "      <td>...</td>\n",
       "      <td>0.0</td>\n",
       "      <td>0.0</td>\n",
       "      <td>0.0</td>\n",
       "      <td>1.0</td>\n",
       "      <td>0.0</td>\n",
       "      <td>0.0</td>\n",
       "      <td>0.0</td>\n",
       "      <td>0.0</td>\n",
       "      <td>0.0</td>\n",
       "      <td>0.0</td>\n",
       "    </tr>\n",
       "    <tr>\n",
       "      <th>39692</th>\n",
       "      <td>yes</td>\n",
       "      <td>2.117647</td>\n",
       "      <td>-0.5</td>\n",
       "      <td>0.0</td>\n",
       "      <td>0.0</td>\n",
       "      <td>-0.53125</td>\n",
       "      <td>0.392371</td>\n",
       "      <td>0.285714</td>\n",
       "      <td>-0.897174</td>\n",
       "      <td>-1.200132</td>\n",
       "      <td>...</td>\n",
       "      <td>0.0</td>\n",
       "      <td>0.0</td>\n",
       "      <td>0.0</td>\n",
       "      <td>0.0</td>\n",
       "      <td>0.0</td>\n",
       "      <td>1.0</td>\n",
       "      <td>0.0</td>\n",
       "      <td>0.0</td>\n",
       "      <td>0.0</td>\n",
       "      <td>0.0</td>\n",
       "    </tr>\n",
       "    <tr>\n",
       "      <th>26381</th>\n",
       "      <td>no</td>\n",
       "      <td>1.176471</td>\n",
       "      <td>-0.5</td>\n",
       "      <td>0.0</td>\n",
       "      <td>0.0</td>\n",
       "      <td>0.00000</td>\n",
       "      <td>-0.221617</td>\n",
       "      <td>-0.031746</td>\n",
       "      <td>0.014805</td>\n",
       "      <td>0.031600</td>\n",
       "      <td>...</td>\n",
       "      <td>0.0</td>\n",
       "      <td>0.0</td>\n",
       "      <td>0.0</td>\n",
       "      <td>0.0</td>\n",
       "      <td>1.0</td>\n",
       "      <td>0.0</td>\n",
       "      <td>0.0</td>\n",
       "      <td>0.0</td>\n",
       "      <td>0.0</td>\n",
       "      <td>0.0</td>\n",
       "    </tr>\n",
       "  </tbody>\n",
       "</table>\n",
       "<p>5 rows × 62 columns</p>\n",
       "</div>"
      ],
      "text/plain": [
       "         y       age  campaign  pdays  previous  emp.var.rate  cons.price.idx  \\\n",
       "39548   no -0.117647      -0.5    0.0       0.0      -0.53125        0.277021   \n",
       "38752   no -0.058824       1.0 -993.0       1.0      -1.03125       -0.722071   \n",
       "24182   no -0.058824      -0.5    0.0       0.0       0.00000       -0.221617   \n",
       "39692  yes  2.117647      -0.5    0.0       0.0      -0.53125        0.392371   \n",
       "26381   no  1.176471      -0.5    0.0       0.0       0.00000       -0.221617   \n",
       "\n",
       "       cons.conf.idx  euribor3m  nr.employed  ...  month_oct  month_sep  \\\n",
       "39548       1.142857  -0.904980    -1.200132  ...        0.0        0.0   \n",
       "38752       1.857143  -0.889906    -1.142199  ...        0.0        0.0   \n",
       "24182      -0.031746   0.045760     0.031600  ...        0.0        0.0   \n",
       "39692       0.285714  -0.897174    -1.200132  ...        0.0        0.0   \n",
       "26381      -0.031746   0.014805     0.031600  ...        0.0        0.0   \n",
       "\n",
       "       day_of_week_fri  day_of_week_mon  day_of_week_thu  day_of_week_tue  \\\n",
       "39548              0.0              0.0              1.0              0.0   \n",
       "38752              0.0              0.0              0.0              0.0   \n",
       "24182              0.0              1.0              0.0              0.0   \n",
       "39692              0.0              0.0              0.0              1.0   \n",
       "26381              0.0              0.0              1.0              0.0   \n",
       "\n",
       "       day_of_week_wed  poutcome_failure  poutcome_nonexistent  \\\n",
       "39548              0.0               0.0                   0.0   \n",
       "38752              1.0               0.0                  -1.0   \n",
       "24182              0.0               0.0                   0.0   \n",
       "39692              0.0               0.0                   0.0   \n",
       "26381              0.0               0.0                   0.0   \n",
       "\n",
       "       poutcome_success  \n",
       "39548               0.0  \n",
       "38752               1.0  \n",
       "24182               0.0  \n",
       "39692               0.0  \n",
       "26381               0.0  \n",
       "\n",
       "[5 rows x 62 columns]"
      ]
     },
     "execution_count": 21,
     "metadata": {},
     "output_type": "execute_result"
    }
   ],
   "source": [
    "# One hot encoding\n",
    "\n",
    "enc_raw_data_test = Test.drop(columns = 'y').select_dtypes(include = ['object', 'category'])\n",
    "\n",
    "encoded_data_test = pd.DataFrame(enc.transform(enc_raw_data_test))\n",
    "\n",
    "encoded_data_test.columns = enc.get_feature_names(enc_raw_data_test.columns)\n",
    "encoded_data_test.index = enc_raw_data_test.index\n",
    "\n",
    "Test_Enc = pd.concat([Test.drop(enc_raw_data_test.columns, axis = 1), encoded_data_test], axis = 1)\n",
    "\n",
    "# Accounting for no variance in columns did not remove any from the training set and this does not need to be done on the testing set.\n",
    "\n",
    "# Scaling\n",
    "\n",
    "sca_raw_data_test = Test_Enc.drop(columns = 'y').select_dtypes(exclude = ['object', 'category'])\n",
    "\n",
    "scaled_data_test = pd.DataFrame(scaler.transform(sca_raw_data_test))\n",
    "\n",
    "scaled_data_test.columns = sca_raw_data_test.columns\n",
    "scaled_data_test.index = sca_raw_data_test.index\n",
    "\n",
    "Test_EncSca = pd.concat([Test_Enc.drop(sca_raw_data_test.columns, axis = 1), scaled_data_test], axis = 1)\n",
    "\n",
    "# Final Result\n",
    "\n",
    "Test_EncSca.head(5)"
   ]
  },
  {
   "cell_type": "markdown",
   "metadata": {},
   "source": [
    "### **Question 12**\n",
    "\n",
    "Fit the following models to the training data:\n",
    "    \n",
    "1. Decision Tree\n",
    "2. AdaBoost\n",
    "3. Random Forest\n",
    "4. One other model of your choice! **(although see notes)**\n",
    "\n",
    "As part of this process, be sure to:\n",
    "\n",
    "- Tune your models using various hyperparameter settings (e.g., using sklearn's [***GridSearchCV***](https://scikit-learn.org/stable/modules/generated/sklearn.model_selection.GridSearchCV.html))\n",
    "- Choose a relevant [scoring metric](https://scikit-learn.org/stable/modules/model_evaluation.html) for your model search (e.g., accuracy, AUC, etc.)\n",
    "- Generate predictions and prediction probabilities using your test data\n",
    "- Compute a balanced accuracy score, AUC score, and false/true positive rates for the best version of each of your models\n",
    "- Store the refit times for the best version of each of your models\n",
    "\n",
    "**Notes:** \n",
    "\n",
    "- Model fitting may generally take a several minutes to run -- this is normal!\n",
    "- If you choose to use [***SVC***](https://scikit-learn.org/stable/modules/generated/sklearn.svm.SVC.html), you may want to tune it with only a small number of parameters (e.g., 2 or 3 settings involving C) as it runs **very** slowly on these data (i.e., it may take half an hour or more depending on your computer). Other models may not have this slowness issue."
   ]
  },
  {
   "cell_type": "code",
   "execution_count": 22,
   "metadata": {},
   "outputs": [
    {
     "name": "stdout",
     "output_type": "stream",
     "text": [
      "Now working on model 1 of 4: Decision Tree\n",
      "Now working on model 2 of 4: AdaBoost\n",
      "Now working on model 3 of 4: Random Forest\n",
      "Now working on model 4 of 4: Linear SVM\n",
      "Finished!\n"
     ]
    }
   ],
   "source": [
    "# set up data and labels\n",
    "X_train = TrainDS_EncSelSca.drop(columns = 'y')\n",
    "y_train = TrainDS_EncSelSca.y\n",
    "\n",
    "X_test = Test_EncSca.drop(columns = 'y')\n",
    "y_test = Test_EncSca.y\n",
    "\n",
    "pos_label = 'yes'\n",
    "\n",
    "# set up scoring metric\n",
    "scoring_metric = 'balanced_accuracy'\n",
    "\n",
    "# set up classifiers and tuning parameters\n",
    "names = ['Decision Tree', 'AdaBoost', 'Random Forest', 'Linear SVM']\n",
    "classifiers = [DecisionTreeClassifier(random_state = 345), \n",
    "               AdaBoostClassifier(random_state = 345), \n",
    "               RandomForestClassifier(random_state = 345), \n",
    "               SVC(random_state = 345, kernel = 'linear', probability = True)]\n",
    "param_grids = [{'max_depth': [2, 3, 4, 5, 10, 15], 'criterion': ['gini', 'entropy']},\n",
    "               {'n_estimators': [50, 100, 200]},\n",
    "               {'max_depth': [2, 3, 4], 'max_features': [None, 'sqrt', 'log2'], 'n_estimators': [50, 100, 200]}, \n",
    "               {'C': [0.5, 1]}]\n",
    "\n",
    "# create empty lists for storing outcomes\n",
    "models = []\n",
    "preds = []\n",
    "probs = []\n",
    "BAs = []\n",
    "AUCs = []\n",
    "FPRs = []\n",
    "TPRs = []\n",
    "timings = []\n",
    "\n",
    "# train classifiers and generate test predictions/probabilities\n",
    "for i, eachClassifier in enumerate(classifiers):\n",
    "    \n",
    "    print('Now working on model ', i + 1, ' of ', len(classifiers), ': ', names[i], sep = '')\n",
    "    \n",
    "    # define cross-validation/parameter tuning settings\n",
    "    search = GridSearchCV(eachClassifier, \n",
    "                          param_grids[i], \n",
    "                          cv = 5, # using (Stratified)KFold by default (with 5 folds)\n",
    "                          scoring = scoring_metric,\n",
    "                          n_jobs = -1) # use parallel processing\n",
    "    \n",
    "    model = search.fit(X_train, y_train)\n",
    "    pred = search.predict(X_test)\n",
    "    prob = search.predict_proba(X_test)[:, 1]\n",
    "    \n",
    "    models.append(model)\n",
    "    preds.append(pred)\n",
    "    probs.append(prob)\n",
    "    \n",
    "    BAs.append(balanced_accuracy_score(y_test, pred))\n",
    "    AUCs.append(roc_auc_score(y_test, prob))\n",
    "    \n",
    "    FPR, TPR, _ = roc_curve(y_test, prob, pos_label = pos_label)\n",
    "    \n",
    "    FPRs.append(FPR)\n",
    "    TPRs.append(TPR)\n",
    "    \n",
    "    timings.append(model.refit_time_)\n",
    "    \n",
    "print('Finished!')"
   ]
  },
  {
   "cell_type": "markdown",
   "metadata": {},
   "source": [
    "### **Question 13**\n",
    "\n",
    "Create a pandas DataFrame using the results of your modeling fitting and show the Refit Time, Balanced Accuracy, and AUC for the best version of each of your models, sorted descending by AUC."
   ]
  },
  {
   "cell_type": "code",
   "execution_count": 23,
   "metadata": {},
   "outputs": [
    {
     "data": {
      "text/html": [
       "<div>\n",
       "<style scoped>\n",
       "    .dataframe tbody tr th:only-of-type {\n",
       "        vertical-align: middle;\n",
       "    }\n",
       "\n",
       "    .dataframe tbody tr th {\n",
       "        vertical-align: top;\n",
       "    }\n",
       "\n",
       "    .dataframe thead th {\n",
       "        text-align: right;\n",
       "    }\n",
       "</style>\n",
       "<table border=\"1\" class=\"dataframe\">\n",
       "  <thead>\n",
       "    <tr style=\"text-align: right;\">\n",
       "      <th></th>\n",
       "      <th>Classifier</th>\n",
       "      <th>Refit Time</th>\n",
       "      <th>Balanced Accuracy</th>\n",
       "      <th>AUC</th>\n",
       "    </tr>\n",
       "  </thead>\n",
       "  <tbody>\n",
       "    <tr>\n",
       "      <th>1</th>\n",
       "      <td>AdaBoost</td>\n",
       "      <td>2.804</td>\n",
       "      <td>0.741</td>\n",
       "      <td>0.790</td>\n",
       "    </tr>\n",
       "    <tr>\n",
       "      <th>2</th>\n",
       "      <td>Random Forest</td>\n",
       "      <td>0.281</td>\n",
       "      <td>0.734</td>\n",
       "      <td>0.787</td>\n",
       "    </tr>\n",
       "    <tr>\n",
       "      <th>3</th>\n",
       "      <td>Linear SVM</td>\n",
       "      <td>115.027</td>\n",
       "      <td>0.729</td>\n",
       "      <td>0.772</td>\n",
       "    </tr>\n",
       "    <tr>\n",
       "      <th>0</th>\n",
       "      <td>Decision Tree</td>\n",
       "      <td>0.070</td>\n",
       "      <td>0.730</td>\n",
       "      <td>0.771</td>\n",
       "    </tr>\n",
       "  </tbody>\n",
       "</table>\n",
       "</div>"
      ],
      "text/plain": [
       "      Classifier  Refit Time  Balanced Accuracy    AUC\n",
       "1       AdaBoost       2.804              0.741  0.790\n",
       "2  Random Forest       0.281              0.734  0.787\n",
       "3     Linear SVM     115.027              0.729  0.772\n",
       "0  Decision Tree       0.070              0.730  0.771"
      ]
     },
     "metadata": {},
     "output_type": "display_data"
    }
   ],
   "source": [
    "results = pd.DataFrame({'Classifier': names, \n",
    "                        'Balanced Accuracy': BAs, \n",
    "                        'AUC': AUCs, \n",
    "                        'TPR': TPRs, \n",
    "                        'FPR': FPRs, \n",
    "                        'Refit Time': timings}).sort_values('AUC', ascending = False)\n",
    "\n",
    "display(round(results[['Classifier', 'Refit Time', 'Balanced Accuracy', 'AUC']], 3))"
   ]
  },
  {
   "cell_type": "markdown",
   "metadata": {},
   "source": [
    "### **Question 14**\n",
    "\n",
    "Based on the results shown in Question 13 above, answer the following questions:\n",
    "    \n",
    "1. Which of your models performed the best overall based on AUC? (treat this as your best overall model)\n",
    "2. Was your best overall model based on AUC also the best in terms of balanced accuracy?\n",
    "3. How fast did your best model run relative to the others?\n",
    "4. What is a good link (e.g., article, web page, blog entry) that provides a basic overview of how your best model works? (feel free to use [Google](https://www.google.com/) to find a relevant link)"
   ]
  },
  {
   "cell_type": "markdown",
   "metadata": {},
   "source": [
    "**Answers**\n",
    "\n",
    "1. Based on AUC, AdaBoost perfomed best.\n",
    "2. Yes, AdaBoost also performed best on the basis of balanced accuracy.\n",
    "3. The AdaBoost was faster than Linear SVM, but slower than the Random Forest model and the Decision Tree Model.  It Ranked 3rd fastest, behind Random Forest (2nd) and Decision Tree (1st).\n",
    "4. The following site gives a good explanation of AdaBoost along with giving some of its strengths and weaknesses:\\\n",
    "https://blog.paperspace.com/adaboost-optimizer/"
   ]
  },
  {
   "cell_type": "markdown",
   "metadata": {},
   "source": [
    "### **Question 15**\n",
    "\n",
    "Show the final parameter settings for your best overall model."
   ]
  },
  {
   "cell_type": "code",
   "execution_count": 24,
   "metadata": {},
   "outputs": [
    {
     "data": {
      "text/plain": [
       "AdaBoostClassifier(n_estimators=200, random_state=345)"
      ]
     },
     "execution_count": 24,
     "metadata": {},
     "output_type": "execute_result"
    }
   ],
   "source": [
    "best_index = results.index[0]\n",
    "models[best_index].best_estimator_"
   ]
  },
  {
   "cell_type": "markdown",
   "metadata": {},
   "source": [
    "### **Question 16**\n",
    "\n",
    "To help visualize your modeling results, show a bar plot comparing your models based on AUC and colored by Refit Time."
   ]
  },
  {
   "cell_type": "code",
   "execution_count": 25,
   "metadata": {},
   "outputs": [
    {
     "data": {
      "image/png": "[encoded data removed]",
      "text/plain": [
       "<Figure size 504x432 with 2 Axes>"
      ]
     },
     "metadata": {},
     "output_type": "display_data"
    }
   ],
   "source": [
    "greenToRed = LinearSegmentedColormap.from_list('', ['green', 'whitesmoke', 'red'])\n",
    "cm.register_cmap('green_to_red', greenToRed)\n",
    "\n",
    "normRTs = plt.Normalize(results['Refit Time'].min(), results['Refit Time'].max())\n",
    "smRTs = plt.cm.ScalarMappable(cmap = 'green_to_red', norm = normRTs)\n",
    "\n",
    "ax = sns.barplot(y = 'Classifier', \n",
    "                 x = 'AUC', \n",
    "                 hue = 'Refit Time', \n",
    "                 dodge = False, \n",
    "                 palette = 'green_to_red', \n",
    "                 edgecolor = '.2', \n",
    "                 data = results)\n",
    "\n",
    "ax.get_legend().remove()\n",
    "ax.figure.colorbar(smRTs)\n",
    "ax.set(title = 'AUC Relative to Refit Time (s)')\n",
    "ax.set(xlim = (math.floor(results.AUC.min() * 10) * 10/100, \n",
    "               results.AUC.max() * 1.01))\n",
    "\n",
    "plt.show()"
   ]
  },
  {
   "cell_type": "markdown",
   "metadata": {},
   "source": [
    "### **Question 17**\n",
    "\n",
    "Plot ROC curves for each of your models in one figure."
   ]
  },
  {
   "cell_type": "code",
   "execution_count": 26,
   "metadata": {},
   "outputs": [
    {
     "data": {
      "image/png": "[encoded data removed]",
      "text/plain": [
       "<Figure size 576x576 with 1 Axes>"
      ]
     },
     "metadata": {},
     "output_type": "display_data"
    }
   ],
   "source": [
    "# defining a custom function for reuse later\n",
    "def Custom_ROC_Plot (results, X_test, y_test, title, figwidth = 8, figheight = 8):\n",
    "\n",
    "    fig, ax = plt.subplots(figsize = (figwidth, figheight))\n",
    "\n",
    "    ax.plot(ax.get_xlim(), ax.get_ylim(), ls = '--', c = 'k')\n",
    "    ax.set(title = title)\n",
    "\n",
    "    for i in results.index:\n",
    "        plot_roc_curve(models[i], \n",
    "                       X_test, \n",
    "                       y_test, \n",
    "                       color = cm.Set1(i), \n",
    "                       label = results.loc[i, 'Classifier'] + ': {:.3f}'.format(results.loc[i, 'AUC']),  \n",
    "                       ax = ax)\n",
    "        \n",
    "    return([fig, ax])\n",
    "\n",
    "fig, ax = Custom_ROC_Plot(results, X_test, y_test, title = 'Test AUC Comparison')"
   ]
  },
  {
   "cell_type": "markdown",
   "metadata": {},
   "source": [
    "### **Question 18**\n",
    "\n",
    "Plot a confusion matrix for your best overall model and generate a classification report (i.e., using sklearn's [***classification_report***](https://scikit-learn.org/stable/modules/generated/sklearn.metrics.classification_report.html)). Use the latter to answer the following questions regarding your best overall model:\n",
    "\n",
    "1. What was the accuracy?\n",
    "2. What was the balanced accuracy?\n",
    "3. What was the sensitivity score?\n",
    "4. What was the specificity score?"
   ]
  },
  {
   "cell_type": "code",
   "execution_count": 27,
   "metadata": {},
   "outputs": [
    {
     "data": {
      "text/plain": [
       "<sklearn.metrics._plot.confusion_matrix.ConfusionMatrixDisplay at 0x13f551f9bb0>"
      ]
     },
     "execution_count": 27,
     "metadata": {},
     "output_type": "execute_result"
    },
    {
     "data": {
      "image/png": "[encoded data removed]",
      "text/plain": [
       "<Figure size 504x432 with 2 Axes>"
      ]
     },
     "metadata": {},
     "output_type": "display_data"
    }
   ],
   "source": [
    "plot_confusion_matrix(models[best_index], \n",
    "                      X_test, \n",
    "                      y_test,\n",
    "                      cmap = plt.cm.Blues,\n",
    "                      values_format = 'd')"
   ]
  },
  {
   "cell_type": "code",
   "execution_count": 28,
   "metadata": {},
   "outputs": [
    {
     "name": "stdout",
     "output_type": "stream",
     "text": [
      "              precision    recall  f1-score   support\n",
      "\n",
      "          no      0.947     0.856     0.899      9137\n",
      "         yes      0.355     0.625     0.453      1160\n",
      "\n",
      "    accuracy                          0.830     10297\n",
      "   macro avg      0.651     0.741     0.676     10297\n",
      "weighted avg      0.881     0.830     0.849     10297\n",
      "\n"
     ]
    }
   ],
   "source": [
    "print(classification_report(y_test, preds[best_index], digits = 3))"
   ]
  },
  {
   "cell_type": "markdown",
   "metadata": {},
   "source": [
    "**Answers**\n",
    "\n",
    "1. Accuracy = 0.830\n",
    "2. Balanced Accuracy = 0.741\n",
    "3. Sensitivity = 0.625\n",
    "4. Specificity = 0.856"
   ]
  },
  {
   "cell_type": "markdown",
   "metadata": {},
   "source": [
    "### **Question 19**\n",
    "\n",
    "Plot the top 10 features of importance (i.e., `feature_importances_`) or coefficients (i.e., `coefs_`) for your best overall model."
   ]
  },
  {
   "cell_type": "code",
   "execution_count": 29,
   "metadata": {},
   "outputs": [
    {
     "data": {
      "text/plain": [
       "<AxesSubplot:xlabel='importance', ylabel='feature'>"
      ]
     },
     "execution_count": 29,
     "metadata": {},
     "output_type": "execute_result"
    },
    {
     "data": {
      "image/png": "[encoded data removed]",
      "text/plain": [
       "<Figure size 504x432 with 1 Axes>"
      ]
     },
     "metadata": {},
     "output_type": "display_data"
    }
   ],
   "source": [
    "# for models with feature importances\n",
    "if hasattr(models[best_index].best_estimator_, 'feature_importances_'):\n",
    "    var_imp = pd.DataFrame({\n",
    "        'feature': X_test.columns, \n",
    "        'importance': models[best_index].best_estimator_.feature_importances_}).sort_values('importance', ascending = False)\n",
    "# for models with coefficients (directional)\n",
    "elif hasattr(models[best_index].best_estimator_, 'coef_'):\n",
    "    var_imp = pd.DataFrame({\n",
    "        'feature': X_test.columns, \n",
    "        'importance_abs': abs(models[best_index].best_estimator_.coef_[0]), \n",
    "        'importance': models[best_index].best_estimator_.coef_[0]}).sort_values('importance_abs', ascending = False)\n",
    "    \n",
    "sns.barplot(y = 'feature', \n",
    "            x = 'importance', \n",
    "            data = var_imp.head(10))"
   ]
  },
  {
   "cell_type": "markdown",
   "metadata": {},
   "source": [
    "### **Question 20**\n",
    "\n",
    "Using a markdown cell, describe the overall findings of your analysis, focusing on the figures you generated in Questions 16-19 above and the results/answers from Questions 13 and 14, respectively. Feel free to reference figures by referring to the questions above (e.g., as shown in the figure in Q16 above...).\n",
    "\n",
    "The following questions may be useful for putting together your write-up:\n",
    "\n",
    "- What kind of data were you analyzing (e.g., How many rows/columns? What was the target variable? What were the predictors?)\n",
    "- What type of analysis did you conduct?\n",
    "- Were any data preparation/preprocessing steps necessary?\n",
    "- What types of models did you try evaluating?\n",
    "- How well were you able to predict the target variable?\n",
    "- What were important features or coefficients for prediction in your best model and what do they mean from a business perspective?\n",
    "- What is the overarching business impact of your analysis (e.g., do you have any prescriptive recommendations)?\n",
    "- What did you learn from your analysis?\n",
    "\n",
    "**Note:** Your write-up does not need to be long (i.e., there is no length requirement), but it should cover all of the questions noted above. Be as succinct as possible while focusing on interesting aspects of your analysis and what you learned."
   ]
  },
  {
   "cell_type": "markdown",
   "metadata": {},
   "source": [
    "**Answer**\n",
    "\n",
    "Data Overview:\n",
    "The data is from direct marketing campaigns that were run by a Portuguese banking institution. The marketing campaigns were based on phone calls conducted to prospective clients. The data also includes certain economic and social attributes to see how these may also influence client behavior. In the initial data set after excluding the 'duration' feature (this is excluded because it is strongly related to the target variable) there were 41,188 observations. This includes 20 columns of which one is the target variable and 19 provide feature information. The target variable is 'y' which tells us whether the client has subscribed to a term deposit with the bank. The predictors included the following information: (1) client age, (2) client's type of job, (3) client's marital status, (4) client's education level, (5) client default indicator, (6) client housing loan indicator, (7) client personal loan indicator, (8) last contact communication type, (9) last contact month of the year, (10) last contact day of the week, (11) number of contacts to the client during the campaign, (12) number of days that passed by after the client was contacted from the last campaign in which they were contacted (this could take value 999, which means they were not previously contacted), (13) number of contacts performed before this campaign for this client, (14) outcome of previous campaign on client, (15) employment variation rate, (16) consumer price index, (17) consumer confidence index, (18) EURIBOR 3-month rate, and (19) number of employees.\n",
    "\n",
    "Type of Analysis:\n",
    "A binary classification analysis was conducted on the target variable 'y'. This variable tells us whether the client subscribed to a bank term deposit. As this variable has two levels (yes or no), it was a good candidate for a binary classification model. This style model offers predictions of whether the client will subscribe or not and then it can be evaluated versus what actually happened based on the data collected.\n",
    "\n",
    "Preparation and pre-processing:\n",
    "Before examining possible models to predict the outcome of the target variable, some preparation and pre-processing had to be conducted. The first thing was breaking the data set into a training and testing set. This was done so that the split between training and testing was 75%/25%. After this, the two sets were examined for imbalanced outcomes on our target variable. As the training set was not balanced, this could bias our models to always choose the outcome of the majority set. Therefore, I down sampled the training set to have a balance of \"yes\" and \"no\" outcomes for the target variable. This down sampling was only done for the training set.\n",
    "After this, I examined the training set for missing data as this can give issues to certain models. There was no missing data in the training set, so no imputation of values was needed.\n",
    "Then, I one-hot-encoded the categorical variables within the training set (excluding the target variable) so that dummy variables were created for each level. This was followed by examining the columns within the training set (excluding the target variable) for ones with no variance as this will not help in the model and can cause issues for some. This check did not remove any columns. The final pre-processing step for the training set was to scale the numeric variables; the Robust Scaler was used.\n",
    "The pre-processing steps were then applied to the testing set: (1) examine testing set for missing data, but there was not any, (2) one-hot-encoding of categorical variables (excluding the target), and (3) scaling of numeric variables. For the testing set, the removal of columns with no variance is not necessary.\n",
    "\n",
    "Models and Results:\n",
    "I tried to evaluate four models: (1) Decision Tree, (2) AdaBoost, (3) Random Forest, and (4) Linear SVM. A number of different parameters were tried for each of these models. A number of outcome measures were used to compare the outcome of the models. Three of the metrics that were used to evaluate the models were: AUC, Balanced Accuracy, and Time to Fit the Model. The AdaBoost model performed the best in regards to AUC and Balanced Accuracy. However, it took longer to fit versus the Random Forest and Decision Tree. If time is very essential, then the Random Forest is a good alternative as it is faster than AdaBoost and does not differ in a great regard in AUC and Balanced Accuracy. However, I thought the boost in AUC and Balanced Accuracy were worth the extra time that the AdaBoost model required to fit.\n",
    "\n",
    "Evaluation of Model Prediction:\n",
    "The model was much better at predicting when the client would not sign up for a loan versus its ability to predict those who would sign up for a loan (0.856 and 0.625 respectively). Overall the model had a prediction accuracy of 0.830 and a balanced accuracy of 0.741.\n",
    "\n",
    "Important Features of Model:\n",
    "The following ten features proved to be the most important for the model: (1) EURIBOR 3-month rate, (2) client age, (3) consumer price index, (4) number of days that passed by after the client was contacted from the last campaign in which they were contacted, (5) number of contacts to the client during the campaign, (6) consumer confidence index, (7) number of employees, (8) employment variation rate, (9) last contact month of year October, and (10) number of contacts performed before this campaign for this client.\n",
    "These features would need to be examined a little more closely to determine their exact effect on the model (e.g. does age have a positive effect on the target variable, so that as age increases, the likelihood of the client signing up for a loan increases?). However, their importance indicates that once the business understands the effect on the model, they will be able to steer their campaigns based on these features. The model has shown the EURIBOR 3-month rate to be particularly critical, therefore the business can track this rate and based on whether it is high or low, it will likely play a critical role in whether clients are willing to sign up for a bank term deposit. Based on economic factors, it is likely that as this rate rises, the bank term deposit interest rate also rises and therefore likely sways clients to consider a bank term deposit. As the business better understands these critical factors, they will be able to adjust how they market their bank term deposits to potential clients.\n",
    "\n",
    "Business Recommendations:\n",
    "The AdaBoost model is pretty accurate (0.830 accuracy) in identifying whether clients will sign up for a bank term deposit. I would recommend implementing this model as it could help indicate whether the client, based on their features, is worth pursuing and spending more time reaching out to by bank marketers. Based on economic and social indicators from the model, there may also be good indications as to whether it is worth conducting campaigns in certain economic environments.  Some further analysis would need to be conducted for this, but this model could also help in identifying this for the business.\n",
    "Overall, implementing this model will help the business reduce marketing costs by honing in on clients who are more likely to sign up for a bank term deposit and reduce the time spent on clients who are unlikely to sign up for a bank term deposit.\n",
    "\n",
    "Learning Takeaways:\n",
    "I think taking time to understand the data and possible nuances in variables can be helpful as models are built. This helped me key in on particular variables that I should be watching out for in the model. Another important take away from me was that having a good understanding of the business model can help with prescriptive recommendations. While I could determine some things based on an analysis of the model outcomes, I think really understanding what drives bank marketing could be very beneficial in what recommendations would be proposed based on the model.\n"
   ]
  },
  {
   "cell_type": "code",
   "execution_count": null,
   "metadata": {},
   "outputs": [],
   "source": []
  }
 ],
 "metadata": {
  "kernelspec": {
   "display_name": "Python 3",
   "language": "python",
   "name": "python3"
  },
  "language_info": {
   "codemirror_mode": {
    "name": "ipython",
    "version": 3
   },
   "file_extension": ".py",
   "mimetype": "text/x-python",
   "name": "python",
   "nbconvert_exporter": "python",
   "pygments_lexer": "ipython3",
   "version": "3.8.3"
  }
 },
 "nbformat": 4,
 "nbformat_minor": 4
}
